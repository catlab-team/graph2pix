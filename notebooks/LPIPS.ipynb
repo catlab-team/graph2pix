{
 "cells": [
  {
   "cell_type": "code",
   "execution_count": null,
   "metadata": {},
   "outputs": [],
   "source": [
    "import os\n",
    "import lpips\n",
    "\n",
    "from tqdm import tqdm"
   ]
  },
  {
   "cell_type": "code",
   "execution_count": null,
   "metadata": {},
   "outputs": [],
   "source": [
    "ex_name = \"art_newbreeder_allparents_bs8_disc\"\n",
    "data_root = f\"../gen_images/{ex_name}\"\n",
    "\n",
    "gts_images = os.path.join(data_root, \"gts\")\n",
    "generated_images = os.path.join(data_root, \"generated\")\n",
    "\n",
    "version = \"0.1\"\n",
    "use_gpu = True"
   ]
  },
  {
   "cell_type": "code",
   "execution_count": null,
   "metadata": {},
   "outputs": [],
   "source": [
    "## Initializing the model\n",
    "loss_fn = lpips.LPIPS(net='alex',version=version)\n",
    "if(use_gpu):\n",
    "    loss_fn.cuda()"
   ]
  },
  {
   "cell_type": "code",
   "execution_count": null,
   "metadata": {},
   "outputs": [],
   "source": [
    "# crawl directories\n",
    "files = os.listdir(gts_images)\n",
    "\n",
    "l = 0\n",
    "\n",
    "for file in tqdm(files, total=len(files)):\n",
    "    if(os.path.exists(os.path.join(gts_images,file))):\n",
    "        # Load images\n",
    "        img0 = lpips.im2tensor(lpips.load_image(os.path.join(gts_images,file)))\n",
    "        img1 = lpips.im2tensor(lpips.load_image(os.path.join(generated_images,file)))\n",
    "\n",
    "        if(use_gpu):\n",
    "            img0 = img0.cuda()\n",
    "            img1 = img1.cuda()\n",
    "\n",
    "        # Compute distance\n",
    "        dist01 = loss_fn.forward(img0,img1)\n",
    "        l += dist01.detach().cpu().numpy().mean()\n",
    "        \n",
    "print()\n",
    "print(f\"LPIPS value {l/len(files):.3f}\")"
   ]
  }
 ],
 "metadata": {
  "kernelspec": {
   "display_name": "Graph2Pix",
   "language": "python",
   "name": "pix-env"
  },
  "language_info": {
   "codemirror_mode": {
    "name": "ipython",
    "version": 3
   },
   "file_extension": ".py",
   "mimetype": "text/x-python",
   "name": "python",
   "nbconvert_exporter": "python",
   "pygments_lexer": "ipython3",
   "version": "3.7.9"
  }
 },
 "nbformat": 4,
 "nbformat_minor": 4
}
